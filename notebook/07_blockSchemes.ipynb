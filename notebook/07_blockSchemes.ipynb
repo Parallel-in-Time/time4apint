{
 "cells": [
  {
   "attachments": {},
   "cell_type": "markdown",
   "id": "f1ca8d76",
   "metadata": {},
   "source": [
    "# `BlockScheme` to represent time integration methods\n",
    "\n",
    "Time-stepping methods are represented by objects inheriting from a base class `BlockScheme` defined in the `blockops.schemes` subpackage.\n",
    "This class implements a `getBlockOperators(lamDt, phiName, chiName)` method that returns two `BlockOperator` objects that represent the $\\phi$ and $\\chi$ block operators for one block, such that:\n",
    "\n",
    "$$\n",
    "\\phi {\\bf u}_{n+1} = \\chi {\\bf u}_{n}.\n",
    "$$\n",
    "\n",
    "The `getBlockOperators` method uses two abstract method that should be overwritten in the children classes :\n",
    "\n",
    "- `getBlockMatrices(lamDt)` : generate the block matrices for $\\phi$ and $\\chi$\n",
    "- `getBlockCosts()` : estimate costs for $\\phi$ and $\\chi$"
   ]
  },
  {
   "attachments": {},
   "cell_type": "markdown",
   "id": "8e52a54a",
   "metadata": {},
   "source": [
    "All available time integration methods are registered in the `SCHEMES` dictionnary of the `blockops.schemes` subpackage. This dictionnary contains all available classes that inherit from `BlockScheme` to implement one given type of time-stepping method."
   ]
  },
  {
   "cell_type": "code",
   "execution_count": 1,
   "id": "2eee27af",
   "metadata": {},
   "outputs": [
    {
     "data": {
      "text/plain": [
       "{'Collocation': blockops.schemes.coll.Collocation,\n",
       " 'RungeKutta': blockops.schemes.rk.RungeKutta}"
      ]
     },
     "execution_count": 1,
     "metadata": {},
     "output_type": "execute_result"
    }
   ],
   "source": [
    "from blockops.schemes import SCHEMES\n",
    "SCHEMES"
   ]
  },
  {
   "attachments": {},
   "cell_type": "markdown",
   "id": "da9d7230",
   "metadata": {},
   "source": [
    "Here we can see that two time-stepping schemes are available, namely `Collocation` and `RungeKutta`. Those can be instantiated with a constructor having specific parameters, some inherited from the `BlockScheme` class, some specific to the time-stepping method."
   ]
  },
  {
   "attachments": {},
   "cell_type": "markdown",
   "id": "9095ce46",
   "metadata": {},
   "source": [
    "## `Parameter` subclass to describe parameters\n",
    "\n",
    "Looking closely to the `RungeKutta` class, we can access all its parameters through its `PARAMS` attribute:"
   ]
  },
  {
   "cell_type": "code",
   "execution_count": 2,
   "id": "c8e35981",
   "metadata": {},
   "outputs": [
    {
     "data": {
      "text/plain": [
       "{'nPoints': PositiveNumber(default=None),\n",
       " 'ptsType': MultipleChoices(default=EQUID),\n",
       " 'quadType': MultipleChoices(default=LOBATTO),\n",
       " 'form': MultipleChoices(default=Z2N),\n",
       " 'rkScheme': MultipleChoices(default=BE),\n",
       " 'nStepsPerPoint': PositiveNumber(default=1)}"
      ]
     },
     "execution_count": 2,
     "metadata": {},
     "output_type": "execute_result"
    }
   ],
   "source": [
    "rk = SCHEMES['RungeKutta']\n",
    "\n",
    "rk.PARAMS"
   ]
  },
  {
   "attachments": {},
   "cell_type": "markdown",
   "id": "2dd1ffc7",
   "metadata": {},
   "source": [
    "Each parameter is represented by a specific `Parameter` class (defined in `blockops.utils.params` submodule), which stores:\n",
    "\n",
    "- the documentation for this parameter\n",
    "- what kind of value is expected\n",
    "- what are the current default for the class (`default=None` indicate non optional parameters)\n",
    "\n",
    "Concerning the `RungeKutta` scheme class, it requires several parameter, with only one (`nPoints`) that is not optional (_i.e_ don't have a pre-set default value).\n",
    "\n",
    "Two types of parameters are used, namely the `PositiveNumber` and `MultipleChoices` parameter class. In order to see what type of value are expected by those parameters,\n",
    "one can simply look at the docstring of those parameters classes:"
   ]
  },
  {
   "cell_type": "code",
   "execution_count": 3,
   "id": "50f53584",
   "metadata": {},
   "outputs": [
    {
     "data": {
      "text/plain": [
       "'Parameter that accept (stricly) positive integer'"
      ]
     },
     "execution_count": 3,
     "metadata": {},
     "output_type": "execute_result"
    }
   ],
   "source": [
    "rk.PARAMS['nPoints'].__doc__"
   ]
  },
  {
   "cell_type": "code",
   "execution_count": 4,
   "id": "49b79900",
   "metadata": {},
   "outputs": [
    {
     "data": {
      "text/plain": [
       "'Parameter that accepts different parameter values or parameter types'"
      ]
     },
     "execution_count": 4,
     "metadata": {},
     "output_type": "execute_result"
    }
   ],
   "source": [
    "rk.PARAMS['ptsType'].__doc__"
   ]
  },
  {
   "attachments": {},
   "cell_type": "markdown",
   "id": "19cfbfb5",
   "metadata": {},
   "source": [
    "\n",
    "More information are also stored on the parameter itself. \n",
    "For instance, if we look at the `ptsType` parameter, we can look at its documentation looking at the `docs` attribute of the parameter class:"
   ]
  },
  {
   "cell_type": "code",
   "execution_count": 5,
   "id": "2f6d8ff6",
   "metadata": {},
   "outputs": [
    {
     "name": "stdout",
     "output_type": "stream",
     "text": [
      "Either the type of points (EQUID, LEGENDRE), or a list of given time\n",
      "points in [0, 1].\n"
     ]
    }
   ],
   "source": [
    "ptsType = rk.PARAMS['ptsType']\n",
    "print(ptsType.docs)"
   ]
  },
  {
   "attachments": {},
   "cell_type": "markdown",
   "id": "96f69cd4",
   "metadata": {},
   "source": [
    "The default value of this parameter for this class is then stored in the `default` attribute of the parameter class (`None` if parameter is not optional):"
   ]
  },
  {
   "cell_type": "code",
   "execution_count": 6,
   "id": "1e240d70",
   "metadata": {},
   "outputs": [
    {
     "data": {
      "text/plain": [
       "'EQUID'"
      ]
     },
     "execution_count": 6,
     "metadata": {},
     "output_type": "execute_result"
    }
   ],
   "source": [
    "ptsType.default"
   ]
  },
  {
   "attachments": {},
   "cell_type": "markdown",
   "id": "d42cc24f",
   "metadata": {},
   "source": [
    "Each parameter class is implemented in the `blockops.utils.params` submodule, where one can see its particular implementation and eventual attributes.\n",
    "\n",
    "For instance, the `MultipleChoices` parameter class allows different values or parameter type, and those are stored in the `choices` and `pTypes` attributes:"
   ]
  },
  {
   "cell_type": "code",
   "execution_count": 7,
   "id": "3f51dbdf",
   "metadata": {},
   "outputs": [
    {
     "data": {
      "text/plain": [
       "(['EQUID', 'LEGENDRE', 'CHEBY-1', 'CHEBY-2', 'CHEBY-3', 'CHEBY-4'],\n",
       " [CustomPoints(default=None)])"
      ]
     },
     "execution_count": 7,
     "metadata": {},
     "output_type": "execute_result"
    }
   ],
   "source": [
    "ptsType.choices, ptsType.pTypes"
   ]
  },
  {
   "attachments": {},
   "cell_type": "markdown",
   "id": "f8ad180f",
   "metadata": {},
   "source": [
    "Here we can see that the user can choose between `EQUID`, `LEGENDRE`, ... or eventually put a a value accepted by a `CustomPoints` parameter type:"
   ]
  },
  {
   "cell_type": "code",
   "execution_count": 8,
   "id": "3fb73909",
   "metadata": {},
   "outputs": [
    {
     "data": {
      "text/plain": [
       "'Parameter that accepts an ordered list of float values in [0, 1]'"
      ]
     },
     "execution_count": 8,
     "metadata": {},
     "output_type": "execute_result"
    }
   ],
   "source": [
    "ptsType.pTypes[0].__doc__"
   ]
  },
  {
   "attachments": {},
   "cell_type": "markdown",
   "id": "6fb1697e",
   "metadata": {},
   "source": [
    "## Accessing defaults and docs for all parameters\n",
    "\n",
    "As described before, each `BlockScheme` subclass stores its parameters in the `PARAMS` attribute, from which documentation and default values can be retrieved individually for each parameter.\n",
    "But additionally, those `BlockScheme` subclass also inherit from utility class methods allowing to retrieve defaults and docs for all parameters.\n",
    "\n",
    "For instance, looking at the `RungeKutta` class:"
   ]
  },
  {
   "cell_type": "code",
   "execution_count": 9,
   "id": "7c8bf49b",
   "metadata": {},
   "outputs": [
    {
     "data": {
      "text/plain": [
       "{'nPoints': None,\n",
       " 'ptsType': 'EQUID',\n",
       " 'quadType': 'LOBATTO',\n",
       " 'form': 'Z2N',\n",
       " 'rkScheme': 'BE',\n",
       " 'nStepsPerPoint': 1}"
      ]
     },
     "execution_count": 9,
     "metadata": {},
     "output_type": "execute_result"
    }
   ],
   "source": [
    "SCHEMES['RungeKutta'].getParamsDefault()"
   ]
  },
  {
   "cell_type": "code",
   "execution_count": 10,
   "id": "7c2d6520",
   "metadata": {},
   "outputs": [
    {
     "name": "stdout",
     "output_type": "stream",
     "text": [
      "--- nPoints ---\n",
      "Number of time points in the block. Ignored if a custom list of points\n",
      "is given for `ptsType`.\n",
      "--- ptsType ---\n",
      "Either the type of points (EQUID, LEGENDRE), or a list of given time\n",
      "points in [0, 1].\n",
      "--- quadType ---\n",
      "Quadrature type used for the points in [0, 1]:\n",
      "- LOBATTO -> 0 and 1 are included\n",
      "- GAUSS -> neither 0 nor 1 are included\n",
      "- RADAU-RIGHT -> only 1 is included\n",
      "- RADAU-LEFT -> only 0 is included\n",
      "--- form ---\n",
      "Used formulation, either N2N (node-to-node) or Z2N (zero-to-node).\n",
      "--- rkScheme ---\n",
      "Name of the Runge-Kutta scheme (BE, FE, TRAP, RK4, ...).\n",
      "--- nStepsPerPoint ---\n",
      "Number of time-steps per block time point.\n"
     ]
    }
   ],
   "source": [
    "for param, doc in SCHEMES['RungeKutta'].getParamsDocs().items():\n",
    "    print(f'--- {param} ---')\n",
    "    print(doc)"
   ]
  },
  {
   "attachments": {},
   "cell_type": "markdown",
   "id": "1b4fde10",
   "metadata": {},
   "source": [
    "Or for the `Collocation` class:"
   ]
  },
  {
   "cell_type": "code",
   "execution_count": 11,
   "id": "c2eae318",
   "metadata": {},
   "outputs": [
    {
     "data": {
      "text/plain": [
       "{'nPoints': None,\n",
       " 'ptsType': 'LEGENDRE',\n",
       " 'quadType': 'LOBATTO',\n",
       " 'form': 'Z2N',\n",
       " 'collUpdate': False}"
      ]
     },
     "execution_count": 11,
     "metadata": {},
     "output_type": "execute_result"
    }
   ],
   "source": [
    "SCHEMES['Collocation'].getParamsDefault()"
   ]
  },
  {
   "cell_type": "code",
   "execution_count": 12,
   "id": "b5cedc54",
   "metadata": {},
   "outputs": [
    {
     "name": "stdout",
     "output_type": "stream",
     "text": [
      "--- nPoints ---\n",
      "Number of time points in the block. Ignored if a custom list of points\n",
      "is given for `ptsType`.\n",
      "--- ptsType ---\n",
      "Either the type of points (EQUID, LEGENDRE), or a list of given time\n",
      "points in [0, 1].\n",
      "--- quadType ---\n",
      "Quadrature type used for the points in [0, 1]:\n",
      "- LOBATTO -> 0 and 1 are included\n",
      "- GAUSS -> neither 0 nor 1 are included\n",
      "- RADAU-RIGHT -> only 1 is included\n",
      "- RADAU-LEFT -> only 0 is included\n",
      "--- form ---\n",
      "Used formulation, either N2N (node-to-node) or Z2N (zero-to-node).\n",
      "--- collUpdate ---\n",
      "Wether to use or not the collocation update at the end of the step.\n"
     ]
    }
   ],
   "source": [
    "for param, doc in SCHEMES['Collocation'].getParamsDocs().items():\n",
    "    print(f'--- {param} ---')\n",
    "    print(doc)"
   ]
  },
  {
   "attachments": {},
   "cell_type": "markdown",
   "id": "0a57b47b",
   "metadata": {},
   "source": [
    "## Instantiation and use of a `BlockScheme` subclass\n",
    "\n",
    "Once the user is set on a type of time-stepping method, the next step is to instantiate the corresponding `BlockScheme` subclass and use its `getBlockOperators(...)` method to generate the corresponding `BlockOperator` for one given value of $\\lambda\\Delta{T}$.\n",
    "\n",
    "For instance, let us choose the `RungeKutta` time-stepping type, and look at the different parameters that have to be set:"
   ]
  },
  {
   "cell_type": "code",
   "execution_count": 13,
   "id": "513a761e",
   "metadata": {},
   "outputs": [
    {
     "data": {
      "text/plain": [
       "{'nPoints': PositiveNumber(default=None),\n",
       " 'ptsType': MultipleChoices(default=EQUID),\n",
       " 'quadType': MultipleChoices(default=LOBATTO),\n",
       " 'form': MultipleChoices(default=Z2N),\n",
       " 'rkScheme': MultipleChoices(default=BE),\n",
       " 'nStepsPerPoint': PositiveNumber(default=1)}"
      ]
     },
     "execution_count": 13,
     "metadata": {},
     "output_type": "execute_result"
    }
   ],
   "source": [
    "BlockSchemeClass = SCHEMES['RungeKutta']\n",
    "BlockSchemeClass.PARAMS"
   ]
  },
  {
   "attachments": {},
   "cell_type": "markdown",
   "id": "0ab9c42b",
   "metadata": {},
   "source": [
    "Here only the number of points `nPoints` is non optional, which means that we can instantiate the `BlockScheme` subclass with 5 time points, for instance:"
   ]
  },
  {
   "cell_type": "code",
   "execution_count": 14,
   "id": "78dec50a",
   "metadata": {},
   "outputs": [
    {
     "data": {
      "text/plain": [
       "{'nPoints': PositiveNumber(value=5),\n",
       " 'ptsType': MultipleChoices(value=EQUID),\n",
       " 'quadType': MultipleChoices(value=LOBATTO),\n",
       " 'form': MultipleChoices(value=Z2N),\n",
       " 'rkScheme': MultipleChoices(value=BE),\n",
       " 'nStepsPerPoint': PositiveNumber(value=1)}"
      ]
     },
     "execution_count": 14,
     "metadata": {},
     "output_type": "execute_result"
    }
   ],
   "source": [
    "rkScheme = BlockSchemeClass(5)\n",
    "rkScheme.PARAMS"
   ]
  },
  {
   "attachments": {},
   "cell_type": "markdown",
   "id": "4cfa33f0",
   "metadata": {},
   "source": [
    "We see now that the `PARAMS` displays parameters with their type and value (no default anymore), since the class has been instantiated and parameters values have been given.\n",
    "\n",
    "Additionally, parameters values are accessible through a dictionary returned by the instance method `getParamsValue`:"
   ]
  },
  {
   "cell_type": "code",
   "execution_count": 15,
   "id": "6478b55e",
   "metadata": {},
   "outputs": [
    {
     "data": {
      "text/plain": [
       "{'nPoints': 5,\n",
       " 'ptsType': 'EQUID',\n",
       " 'quadType': 'LOBATTO',\n",
       " 'form': 'Z2N',\n",
       " 'rkScheme': 'BE',\n",
       " 'nStepsPerPoint': 1}"
      ]
     },
     "execution_count": 15,
     "metadata": {},
     "output_type": "execute_result"
    }
   ],
   "source": [
    "rkScheme.getParamsValue()"
   ]
  },
  {
   "attachments": {},
   "cell_type": "markdown",
   "id": "0255956d",
   "metadata": {},
   "source": [
    "Also, the normalized time point coordinates for the block are available through the `points` attribute:"
   ]
  },
  {
   "cell_type": "code",
   "execution_count": 16,
   "id": "ef734070",
   "metadata": {},
   "outputs": [
    {
     "data": {
      "text/plain": [
       "array([0.  , 0.25, 0.5 , 0.75, 1.  ])"
      ]
     },
     "execution_count": 16,
     "metadata": {},
     "output_type": "execute_result"
    }
   ],
   "source": [
    "rkScheme.points"
   ]
  },
  {
   "attachments": {},
   "cell_type": "markdown",
   "id": "7ff2c44d",
   "metadata": {},
   "source": [
    "One can also change the parameters, provided that those are accepted by the parameter class. For instance, if we want to change the `rkScheme` parameter to `EI` (method that does not exists):"
   ]
  },
  {
   "cell_type": "code",
   "execution_count": 17,
   "id": "465948b2",
   "metadata": {},
   "outputs": [
    {
     "ename": "ParamError",
     "evalue": "rkScheme=EI -> is not in ['BE', 'FE', 'RK21', 'TRAP', 'RK2', 'GAUSS-LG', 'SDIRK2', 'RK3', 'RK53', 'SDIRK3', 'RK4', 'SDIRK54', 'RK65', 'EXACT'] (MultipleChoices)",
     "output_type": "error",
     "traceback": [
      "\u001b[0;31m---------------------------------------------------------------------------\u001b[0m",
      "\u001b[0;31mParamError\u001b[0m                                Traceback (most recent call last)",
      "Cell \u001b[0;32mIn[17], line 1\u001b[0m\n\u001b[0;32m----> 1\u001b[0m rkScheme \u001b[39m=\u001b[39m BlockSchemeClass(\u001b[39m5\u001b[39;49m, rkScheme\u001b[39m=\u001b[39;49m\u001b[39m'\u001b[39;49m\u001b[39mEI\u001b[39;49m\u001b[39m'\u001b[39;49m)\n",
      "File \u001b[0;32m~/Recherche/codes/time4apint/notebook/blockops/schemes/rk.py:65\u001b[0m, in \u001b[0;36mRungeKutta.__init__\u001b[0;34m(self, nPoints, ptsType, quadType, form, rkScheme, nStepsPerPoint)\u001b[0m\n\u001b[1;32m     63\u001b[0m \u001b[39mdef\u001b[39;00m \u001b[39m__init__\u001b[39m(\u001b[39mself\u001b[39m, nPoints, ptsType\u001b[39m=\u001b[39m\u001b[39m'\u001b[39m\u001b[39mEQUID\u001b[39m\u001b[39m'\u001b[39m, quadType\u001b[39m=\u001b[39m\u001b[39m'\u001b[39m\u001b[39mLOBATTO\u001b[39m\u001b[39m'\u001b[39m, form\u001b[39m=\u001b[39m\u001b[39m'\u001b[39m\u001b[39mZ2N\u001b[39m\u001b[39m'\u001b[39m,\n\u001b[1;32m     64\u001b[0m              rkScheme\u001b[39m=\u001b[39m\u001b[39m'\u001b[39m\u001b[39mBE\u001b[39m\u001b[39m'\u001b[39m, nStepsPerPoint\u001b[39m=\u001b[39m\u001b[39m1\u001b[39m):\n\u001b[0;32m---> 65\u001b[0m     \u001b[39mself\u001b[39;49m\u001b[39m.\u001b[39;49minitialize(\u001b[39mlocals\u001b[39;49m())\n\u001b[1;32m     66\u001b[0m     \u001b[39msuper\u001b[39m()\u001b[39m.\u001b[39m\u001b[39m__init__\u001b[39m(nPoints, ptsType, quadType, form)\n",
      "File \u001b[0;32m~/Recherche/codes/time4apint/notebook/blockops/utils/params.py:78\u001b[0m, in \u001b[0;36mParamClass.initialize\u001b[0;34m(self, localVars)\u001b[0m\n\u001b[1;32m     76\u001b[0m \u001b[39mfor\u001b[39;00m name, value \u001b[39min\u001b[39;00m localVars\u001b[39m.\u001b[39mitems():\n\u001b[1;32m     77\u001b[0m     \u001b[39mif\u001b[39;00m name \u001b[39m!=\u001b[39m \u001b[39m'\u001b[39m\u001b[39mself\u001b[39m\u001b[39m'\u001b[39m \u001b[39mand\u001b[39;00m \u001b[39mnot\u001b[39;00m name\u001b[39m.\u001b[39mstartswith(\u001b[39m'\u001b[39m\u001b[39m__\u001b[39m\u001b[39m'\u001b[39m):\n\u001b[0;32m---> 78\u001b[0m         \u001b[39mself\u001b[39;49m\u001b[39m.\u001b[39;49mPARAMS[name]\u001b[39m.\u001b[39;49mcheck(value)\n\u001b[1;32m     79\u001b[0m         \u001b[39mself\u001b[39m\u001b[39m.\u001b[39mPARAMS[name]\u001b[39m.\u001b[39mvalue \u001b[39m=\u001b[39m value\n",
      "File \u001b[0;32m~/Recherche/codes/time4apint/notebook/blockops/utils/params.py:188\u001b[0m, in \u001b[0;36mMultipleChoices.check\u001b[0;34m(self, value)\u001b[0m\n\u001b[1;32m    186\u001b[0m     \u001b[39mself\u001b[39m\u001b[39m.\u001b[39merror(value, \u001b[39mf\u001b[39m\u001b[39m\"\u001b[39m\u001b[39mis not in \u001b[39m\u001b[39m{\u001b[39;00m[c\u001b[39m \u001b[39m\u001b[39mfor\u001b[39;00m\u001b[39m \u001b[39mc\u001b[39m \u001b[39m\u001b[39min\u001b[39;00m\u001b[39m \u001b[39mchoices]\u001b[39m}\u001b[39;00m\u001b[39m\"\u001b[39m)\n\u001b[1;32m    187\u001b[0m \u001b[39mif\u001b[39;00m value \u001b[39mnot\u001b[39;00m \u001b[39min\u001b[39;00m \u001b[39mself\u001b[39m\u001b[39m.\u001b[39mchoices:\n\u001b[0;32m--> 188\u001b[0m     \u001b[39mself\u001b[39;49m\u001b[39m.\u001b[39;49merror(value, \u001b[39mf\u001b[39;49m\u001b[39m\"\u001b[39;49m\u001b[39mis not in \u001b[39;49m\u001b[39m{\u001b[39;49;00m[c\u001b[39m \u001b[39;49m\u001b[39mfor\u001b[39;49;00m\u001b[39m \u001b[39;49mc\u001b[39m \u001b[39;49m\u001b[39min\u001b[39;49;00m\u001b[39m \u001b[39;49mchoices]\u001b[39m}\u001b[39;49;00m\u001b[39m\"\u001b[39;49m)\n\u001b[1;32m    189\u001b[0m \u001b[39mreturn\u001b[39;00m \u001b[39mTrue\u001b[39;00m\n",
      "File \u001b[0;32m~/Recherche/codes/time4apint/notebook/blockops/utils/params.py:36\u001b[0m, in \u001b[0;36mParameter.error\u001b[0;34m(self, value, reason)\u001b[0m\n\u001b[1;32m     34\u001b[0m \u001b[39mdef\u001b[39;00m \u001b[39merror\u001b[39m(\u001b[39mself\u001b[39m, value, reason):\n\u001b[1;32m     35\u001b[0m     reason\u001b[39m+\u001b[39m\u001b[39m=\u001b[39m \u001b[39mf\u001b[39m\u001b[39m\"\u001b[39m\u001b[39m (\u001b[39m\u001b[39m{\u001b[39;00m\u001b[39mself\u001b[39m\u001b[39m.\u001b[39mpType\u001b[39m}\u001b[39;00m\u001b[39m)\u001b[39m\u001b[39m\"\u001b[39m\n\u001b[0;32m---> 36\u001b[0m     \u001b[39mraise\u001b[39;00m ParamError(\u001b[39mself\u001b[39m\u001b[39m.\u001b[39mname, value, reason)\n",
      "\u001b[0;31mParamError\u001b[0m: rkScheme=EI -> is not in ['BE', 'FE', 'RK21', 'TRAP', 'RK2', 'GAUSS-LG', 'SDIRK2', 'RK3', 'RK53', 'SDIRK3', 'RK4', 'SDIRK54', 'RK65', 'EXACT'] (MultipleChoices)"
     ]
    }
   ],
   "source": [
    "rkScheme = BlockSchemeClass(5, rkScheme='EI')"
   ]
  },
  {
   "attachments": {},
   "cell_type": "markdown",
   "id": "54ae71b3",
   "metadata": {},
   "source": [
    "We see in the raised exception that the parameter value is not accepted, and indication are done on how to solve it.\n",
    "\n",
    "Same goes for the `ptsType` parameter, for which we can provide either a string or a list of float values with predefined points. If the later are wrongly provided, we can see the reason why in the exception message :"
   ]
  },
  {
   "cell_type": "code",
   "execution_count": null,
   "id": "0e1028f2",
   "metadata": {},
   "outputs": [
    {
     "ename": "ParamError",
     "evalue": "ptsType=[-1, 0, 1] -> is not in ['EQUID', 'LEGENDRE', 'CHEBY-1', 'CHEBY-2', 'CHEBY-3', 'CHEBY-4', 'points are not included in [0, 1] (CustomPoints)'] (MultipleChoices)",
     "output_type": "error",
     "traceback": [
      "\u001b[0;31m---------------------------------------------------------------------------\u001b[0m",
      "\u001b[0;31mParamError\u001b[0m                                Traceback (most recent call last)",
      "Cell \u001b[0;32mIn[20], line 1\u001b[0m\n\u001b[0;32m----> 1\u001b[0m rkScheme \u001b[39m=\u001b[39m BlockSchemeClass(\u001b[39m5\u001b[39;49m, ptsType\u001b[39m=\u001b[39;49m[\u001b[39m-\u001b[39;49m\u001b[39m1\u001b[39;49m, \u001b[39m0\u001b[39;49m, \u001b[39m1\u001b[39;49m])\n",
      "File \u001b[0;32m~/Recherche/codes/time4apint/notebook/blockops/schemes/rk.py:65\u001b[0m, in \u001b[0;36mRungeKutta.__init__\u001b[0;34m(self, nPoints, ptsType, quadType, form, rkScheme, nStepsPerPoint)\u001b[0m\n\u001b[1;32m     63\u001b[0m \u001b[39mdef\u001b[39;00m \u001b[39m__init__\u001b[39m(\u001b[39mself\u001b[39m, nPoints, ptsType\u001b[39m=\u001b[39m\u001b[39m'\u001b[39m\u001b[39mEQUID\u001b[39m\u001b[39m'\u001b[39m, quadType\u001b[39m=\u001b[39m\u001b[39m'\u001b[39m\u001b[39mLOBATTO\u001b[39m\u001b[39m'\u001b[39m, form\u001b[39m=\u001b[39m\u001b[39m'\u001b[39m\u001b[39mZ2N\u001b[39m\u001b[39m'\u001b[39m,\n\u001b[1;32m     64\u001b[0m              rkScheme\u001b[39m=\u001b[39m\u001b[39m'\u001b[39m\u001b[39mBE\u001b[39m\u001b[39m'\u001b[39m, nStepsPerPoint\u001b[39m=\u001b[39m\u001b[39m1\u001b[39m):\n\u001b[0;32m---> 65\u001b[0m     \u001b[39mself\u001b[39;49m\u001b[39m.\u001b[39;49minitialize(\u001b[39mlocals\u001b[39;49m())\n\u001b[1;32m     66\u001b[0m     \u001b[39msuper\u001b[39m()\u001b[39m.\u001b[39m\u001b[39m__init__\u001b[39m(nPoints, ptsType, quadType, form)\n",
      "File \u001b[0;32m~/Recherche/codes/time4apint/notebook/blockops/utils/params.py:78\u001b[0m, in \u001b[0;36mParamClass.initialize\u001b[0;34m(self, localVars)\u001b[0m\n\u001b[1;32m     76\u001b[0m \u001b[39mfor\u001b[39;00m name, value \u001b[39min\u001b[39;00m localVars\u001b[39m.\u001b[39mitems():\n\u001b[1;32m     77\u001b[0m     \u001b[39mif\u001b[39;00m name \u001b[39m!=\u001b[39m \u001b[39m'\u001b[39m\u001b[39mself\u001b[39m\u001b[39m'\u001b[39m \u001b[39mand\u001b[39;00m \u001b[39mnot\u001b[39;00m name\u001b[39m.\u001b[39mstartswith(\u001b[39m'\u001b[39m\u001b[39m__\u001b[39m\u001b[39m'\u001b[39m):\n\u001b[0;32m---> 78\u001b[0m         \u001b[39mself\u001b[39;49m\u001b[39m.\u001b[39;49mPARAMS[name]\u001b[39m.\u001b[39;49mcheck(value)\n\u001b[1;32m     79\u001b[0m         \u001b[39mself\u001b[39m\u001b[39m.\u001b[39mPARAMS[name]\u001b[39m.\u001b[39mvalue \u001b[39m=\u001b[39m value\n",
      "File \u001b[0;32m~/Recherche/codes/time4apint/notebook/blockops/utils/params.py:186\u001b[0m, in \u001b[0;36mMultipleChoices.check\u001b[0;34m(self, value)\u001b[0m\n\u001b[1;32m    184\u001b[0m         choices\u001b[39m.\u001b[39mappend(err\u001b[39m.\u001b[39mreason)\n\u001b[1;32m    185\u001b[0m \u001b[39mif\u001b[39;00m \u001b[39mnot\u001b[39;00m \u001b[39misinstance\u001b[39m(value, Hashable):\n\u001b[0;32m--> 186\u001b[0m     \u001b[39mself\u001b[39;49m\u001b[39m.\u001b[39;49merror(value, \u001b[39mf\u001b[39;49m\u001b[39m\"\u001b[39;49m\u001b[39mis not in \u001b[39;49m\u001b[39m{\u001b[39;49;00m[c\u001b[39m \u001b[39;49m\u001b[39mfor\u001b[39;49;00m\u001b[39m \u001b[39;49mc\u001b[39m \u001b[39;49m\u001b[39min\u001b[39;49;00m\u001b[39m \u001b[39;49mchoices]\u001b[39m}\u001b[39;49;00m\u001b[39m\"\u001b[39;49m)\n\u001b[1;32m    187\u001b[0m \u001b[39mif\u001b[39;00m value \u001b[39mnot\u001b[39;00m \u001b[39min\u001b[39;00m \u001b[39mself\u001b[39m\u001b[39m.\u001b[39mchoices:\n\u001b[1;32m    188\u001b[0m     \u001b[39mself\u001b[39m\u001b[39m.\u001b[39merror(value, \u001b[39mf\u001b[39m\u001b[39m\"\u001b[39m\u001b[39mis not in \u001b[39m\u001b[39m{\u001b[39;00m[c\u001b[39m \u001b[39m\u001b[39mfor\u001b[39;00m\u001b[39m \u001b[39mc\u001b[39m \u001b[39m\u001b[39min\u001b[39;00m\u001b[39m \u001b[39mchoices]\u001b[39m}\u001b[39;00m\u001b[39m\"\u001b[39m)\n",
      "File \u001b[0;32m~/Recherche/codes/time4apint/notebook/blockops/utils/params.py:36\u001b[0m, in \u001b[0;36mParameter.error\u001b[0;34m(self, value, reason)\u001b[0m\n\u001b[1;32m     34\u001b[0m \u001b[39mdef\u001b[39;00m \u001b[39merror\u001b[39m(\u001b[39mself\u001b[39m, value, reason):\n\u001b[1;32m     35\u001b[0m     reason\u001b[39m+\u001b[39m\u001b[39m=\u001b[39m \u001b[39mf\u001b[39m\u001b[39m\"\u001b[39m\u001b[39m (\u001b[39m\u001b[39m{\u001b[39;00m\u001b[39mself\u001b[39m\u001b[39m.\u001b[39mpType\u001b[39m}\u001b[39;00m\u001b[39m)\u001b[39m\u001b[39m\"\u001b[39m\n\u001b[0;32m---> 36\u001b[0m     \u001b[39mraise\u001b[39;00m ParamError(\u001b[39mself\u001b[39m\u001b[39m.\u001b[39mname, value, reason)\n",
      "\u001b[0;31mParamError\u001b[0m: ptsType=[-1, 0, 1] -> is not in ['EQUID', 'LEGENDRE', 'CHEBY-1', 'CHEBY-2', 'CHEBY-3', 'CHEBY-4', 'points are not included in [0, 1] (CustomPoints)'] (MultipleChoices)"
     ]
    }
   ],
   "source": [
    "rkScheme = BlockSchemeClass(5, ptsType=[-1, 0, 1])"
   ]
  }
 ],
 "metadata": {
  "kernelspec": {
   "display_name": "Python 3 (ipykernel)",
   "language": "python",
   "name": "python3"
  },
  "language_info": {
   "codemirror_mode": {
    "name": "ipython",
    "version": 3
   },
   "file_extension": ".py",
   "mimetype": "text/x-python",
   "name": "python",
   "nbconvert_exporter": "python",
   "pygments_lexer": "ipython3",
   "version": "3.10.10"
  }
 },
 "nbformat": 4,
 "nbformat_minor": 5
}
