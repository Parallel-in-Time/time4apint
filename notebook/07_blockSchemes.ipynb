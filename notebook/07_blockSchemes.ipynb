{
 "cells": [
  {
   "cell_type": "markdown",
   "id": "f1ca8d76",
   "metadata": {},
   "source": [
    "# `BlockScheme` to represent time integration methods\n",
    "\n",
    "Time-stepping methods are represented by objects inheriting from a base class `BlockScheme` defined in the `blockops.schemes` submodule.\n",
    "This class implements a `getBlockOperators(lamDt, phiName, chiName)` method that returns two `BlockOperator` objects that represent the $\\phi$ and $\\chi$ block operators for one block, such that:\n",
    "\n",
    "$$\n",
    "\\phi {\\bf u}_{n+1} = \\chi {\\bf u}_{n}.\n",
    "$$\n",
    "\n",
    "The `getBlockOperators` method uses two abstract method that should be overwritten in the children classes :\n",
    "\n",
    "- `getBlockMatrices(lamDt)` : generate the block matrices for $\\phi$ and $\\chi$\n",
    "- `getBlockCosts()` : estimate costs for $\\phi$ and $\\chi$"
   ]
  },
  {
   "cell_type": "markdown",
   "id": "8e52a54a",
   "metadata": {},
   "source": [
    "## Implementation and parameter documentation\n",
    "\n",
    "All available time integration methods are registered in the `SCHEMES` dictionnary of the `blockops.schemes` submodule. This dictionnary contains all available classes that inherit from `BlockScheme` to implement one given type of time-stepping method."
   ]
  },
  {
   "cell_type": "code",
   "execution_count": 1,
   "id": "2eee27af",
   "metadata": {},
   "outputs": [
    {
     "data": {
      "text/plain": [
       "{'Collocation': blockops.schemes.coll.Collocation,\n",
       " 'RungeKutta': blockops.schemes.rk.RungeKutta}"
      ]
     },
     "execution_count": 1,
     "metadata": {},
     "output_type": "execute_result"
    }
   ],
   "source": [
    "from blockops.schemes import SCHEMES\n",
    "\n",
    "SCHEMES"
   ]
  },
  {
   "cell_type": "markdown",
   "id": "da9d7230",
   "metadata": {},
   "source": [
    "Here we can see that two time-stepping schemes are available, namely `Collocation` and `RungeKutta`.\n",
    "\n",
    "If we look closely to the `RungeKutta` class, we can access all its parameters through its `PARAMS` attribute :"
   ]
  },
  {
   "cell_type": "code",
   "execution_count": 2,
   "id": "c8e35981",
   "metadata": {},
   "outputs": [
    {
     "data": {
      "text/plain": [
       "{'nPoints': PositiveNumber(default=None),\n",
       " 'ptsType': MultipleChoices(default=EQUID),\n",
       " 'quadType': MultipleChoices(default=LOBATTO),\n",
       " 'form': MultipleChoices(default=Z2N),\n",
       " 'rkScheme': MultipleChoices(default=BE),\n",
       " 'nStepsPerPoint': PositiveNumber(default=1)}"
      ]
     },
     "execution_count": 2,
     "metadata": {},
     "output_type": "execute_result"
    }
   ],
   "source": [
    "rk = SCHEMES['RungeKutta']\n",
    "\n",
    "rk.PARAMS"
   ]
  },
  {
   "cell_type": "markdown",
   "id": "2dd1ffc7",
   "metadata": {},
   "source": [
    "Each parameter is represented by a given `Parameter` class, which stores :\n",
    "\n",
    "- the documentation for this parameter\n",
    "- what kind of value is expected\n",
    "- what are the current default for the class (`default=None` indicate that this parameter must be provided by the user)\n",
    "\n",
    "For instance, if we look at the `ptsType` parameter :"
   ]
  },
  {
   "cell_type": "code",
   "execution_count": 3,
   "id": "2f6d8ff6",
   "metadata": {},
   "outputs": [
    {
     "name": "stdout",
     "output_type": "stream",
     "text": [
      "Either the type of points (EQUID, LEGENDRE), or a list of given time\n",
      "points in [0, 1].\n"
     ]
    }
   ],
   "source": [
    "ptsType = rk.PARAMS['ptsType']\n",
    "\n",
    "print(ptsType.docs)"
   ]
  },
  {
   "cell_type": "code",
   "execution_count": 4,
   "id": "0d220c91",
   "metadata": {},
   "outputs": [
    {
     "data": {
      "text/plain": [
       "'Parameter that accepts different parameter values or parameter types'"
      ]
     },
     "execution_count": 4,
     "metadata": {},
     "output_type": "execute_result"
    }
   ],
   "source": [
    "ptsType.__doc__"
   ]
  },
  {
   "cell_type": "code",
   "execution_count": 5,
   "id": "1e240d70",
   "metadata": {},
   "outputs": [
    {
     "data": {
      "text/plain": [
       "'EQUID'"
      ]
     },
     "execution_count": 5,
     "metadata": {},
     "output_type": "execute_result"
    }
   ],
   "source": [
    "ptsType.default"
   ]
  },
  {
   "cell_type": "markdown",
   "id": "d42cc24f",
   "metadata": {},
   "source": [
    "In particular, for the `MultipleChoices` parameter class, the possible values and parameter types are stored in the `choices` and `pTypes` attributes :"
   ]
  },
  {
   "cell_type": "code",
   "execution_count": 6,
   "id": "3f51dbdf",
   "metadata": {},
   "outputs": [
    {
     "data": {
      "text/plain": [
       "(['EQUID', 'LEGENDRE', 'CHEBY-1', 'CHEBY-2', 'CHEBY-3', 'CHEBY-4'],\n",
       " [CustomPoints(default=None)])"
      ]
     },
     "execution_count": 6,
     "metadata": {},
     "output_type": "execute_result"
    }
   ],
   "source": [
    "ptsType.choices, ptsType.pTypes"
   ]
  },
  {
   "cell_type": "code",
   "execution_count": 7,
   "id": "3fb73909",
   "metadata": {},
   "outputs": [
    {
     "data": {
      "text/plain": [
       "'Parameter that accepts an ordered list of float values in [0, 1]'"
      ]
     },
     "execution_count": 7,
     "metadata": {},
     "output_type": "execute_result"
    }
   ],
   "source": [
    "ptsType.pTypes[0].__doc__"
   ]
  },
  {
   "cell_type": "markdown",
   "id": "6fb1697e",
   "metadata": {},
   "source": [
    "Back to the `RungeKutta` class, as for the `Collocation` class, it inherit from utility methods allowing to get the default and docs for each parameters :"
   ]
  },
  {
   "cell_type": "code",
   "execution_count": 8,
   "id": "7c8bf49b",
   "metadata": {},
   "outputs": [
    {
     "data": {
      "text/plain": [
       "{'nPoints': None,\n",
       " 'ptsType': 'EQUID',\n",
       " 'quadType': 'LOBATTO',\n",
       " 'form': 'Z2N',\n",
       " 'rkScheme': 'BE',\n",
       " 'nStepsPerPoint': 1}"
      ]
     },
     "execution_count": 8,
     "metadata": {},
     "output_type": "execute_result"
    }
   ],
   "source": [
    "rk.getParamsDefault()"
   ]
  },
  {
   "cell_type": "code",
   "execution_count": 9,
   "id": "7c2d6520",
   "metadata": {},
   "outputs": [
    {
     "name": "stdout",
     "output_type": "stream",
     "text": [
      "--- nPoints ---\n",
      "Number of time points in the block. Ignored if a custom list of points\n",
      "is given for `ptsType`.\n",
      "--- ptsType ---\n",
      "Either the type of points (EQUID, LEGENDRE), or a list of given time\n",
      "points in [0, 1].\n",
      "--- quadType ---\n",
      "Quadrature type used for the points in [0, 1]:\n",
      "- LOBATTO -> 0 and 1 are included\n",
      "- GAUSS -> neither 0 nor 1 are included\n",
      "- RADAU-RIGHT -> only 1 is included\n",
      "- RADAU-LEFT -> only 0 is included\n",
      "--- form ---\n",
      "Used formulation, either N2N (node-to-node) or Z2N (zero-to-node).\n",
      "--- rkScheme ---\n",
      "Name of the Runge-Kutta scheme (BE, FE, TRAP, RK4, ...).\n",
      "--- nStepsPerPoint ---\n",
      "Number of time-steps per block time point.\n"
     ]
    }
   ],
   "source": [
    "for param, doc in rk.getParamsDocs().items():\n",
    "    print(f'--- {param} ---')\n",
    "    print(doc)"
   ]
  }
 ],
 "metadata": {
  "kernelspec": {
   "display_name": "Python 3 (ipykernel)",
   "language": "python",
   "name": "python3"
  },
  "language_info": {
   "codemirror_mode": {
    "name": "ipython",
    "version": 3
   },
   "file_extension": ".py",
   "mimetype": "text/x-python",
   "name": "python",
   "nbconvert_exporter": "python",
   "pygments_lexer": "ipython3",
   "version": "3.10.10"
  }
 },
 "nbformat": 4,
 "nbformat_minor": 5
}
