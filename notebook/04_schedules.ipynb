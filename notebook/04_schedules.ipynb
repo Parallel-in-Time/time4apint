{
 "cells": [
  {
   "cell_type": "markdown",
   "id": "8d4c555c",
   "metadata": {},
   "source": [
    "## Schedule example\n",
    "\n",
    "In the next step, we want to use schedules of a task graph to predict the runtime of a BlockIteration. At the moment, this package has two different schedules implemented\n",
    "\n",
    "1) PinT Block-by-block: Typical PinT implementation for a given number of processes (link)\n",
    "2) Optimal: An \"optimal\" scheduling strategy assuming an unlimited number of processes (link)\n",
    "\n",
    "To show the different strategies, we first build a task graph using a BlockIteration. Here, we use Parareal with spatial coarsening from notebook 01:"
   ]
  },
  {
   "cell_type": "code",
   "execution_count": 1,
   "id": "reasonable-recorder",
   "metadata": {},
   "outputs": [],
   "source": [
    "from blockops import BlockOperator, BlockIteration, I\n",
    "nBlocks = 4\n",
    "\n",
    "g = BlockOperator('G', cost=1)  # coarse solver\n",
    "f = BlockOperator('F', cost=10)  # fine solver\n",
    "r = BlockOperator('R', cost=0.2)  # restriction\n",
    "p = BlockOperator('P', cost=0.2)  # prolongation (interpolation)\n",
    "\n",
    "rules = [(r*p, I)]\n",
    "\n",
    "pararealSC = BlockIteration(\n",
    "    \"(f - p*g*r) u_{n}^k + p*g*r * u_{n}^{k+1}\",  # block iteration update formula\n",
    "    propagator=f, predictor=\"p*g*r\",  # propagator and predictor\n",
    "    rules=rules,  # list of rules (optional)\n",
    "    f=f, p=p, g=g, r=r)  # definition of the block operator objects"
   ]
  },
  {
   "cell_type": "markdown",
   "id": "taken-secondary",
   "metadata": {},
   "source": [
    "We can now simpyl plot a scheduling using the function `plotSchedule`. First we want to plot the block-by-block schedule. Dafür benötigen wir eine Anzahl von Prozessen, welche wir identisch zu der Anzahl von Blöcken setzen:"
   ]
  },
  {
   "cell_type": "code",
   "execution_count": 2,
   "id": "reverse-emerald",
   "metadata": {},
   "outputs": [
    {
     "data": {
      "image/png": "[encoded data removed]",
      "text/plain": [
       "<Figure size 576x345.6 with 1 Axes>"
      ]
     },
     "metadata": {
      "needs_background": "light"
     },
     "output_type": "display_data"
    }
   ],
   "source": [
    "pararealSC.plotSchedule(N=nBlocks, K=[1, 2, 2, 2], nProc=nBlocks, schedule_type='BLOCK-BY-BLOCK')"
   ]
  },
  {
   "cell_type": "markdown",
   "id": "available-enhancement",
   "metadata": {},
   "source": [
    "Now, we want to plot the optimal schedule.\n",
    "\n",
    "**Note** : The number of processes for the optimal scheduler is not important. This scheduler assumes unlimited processes and ignores the given number of processes :"
   ]
  },
  {
   "cell_type": "code",
   "execution_count": 3,
   "id": "relevant-ticket",
   "metadata": {},
   "outputs": [
    {
     "data": {
      "image/png": "[encoded data removed]",
      "text/plain": [
       "<Figure size 576x345.6 with 1 Axes>"
      ]
     },
     "metadata": {
      "needs_background": "light"
     },
     "output_type": "display_data"
    }
   ],
   "source": [
    "pararealSC.plotSchedule(N=nBlocks, K=[1, 2, 2, 2], nProc=1000, schedule_type='OPTIMAL')"
   ]
  },
  {
   "cell_type": "markdown",
   "id": "minute-ordering",
   "metadata": {},
   "source": []
  },
  {
   "cell_type": "code",
   "execution_count": null,
   "id": "bored-wallet",
   "metadata": {},
   "outputs": [],
   "source": []
  },
  {
   "cell_type": "code",
   "execution_count": null,
   "id": "loved-sharing",
   "metadata": {},
   "outputs": [],
   "source": []
  }
 ],
 "metadata": {
  "kernelspec": {
   "display_name": "Python 3",
   "language": "python",
   "name": "python3"
  },
  "language_info": {
   "codemirror_mode": {
    "name": "ipython",
    "version": 3
   },
   "file_extension": ".py",
   "mimetype": "text/x-python",
   "name": "python",
   "nbconvert_exporter": "python",
   "pygments_lexer": "ipython3",
   "version": "3.8.10"
  }
 },
 "nbformat": 4,
 "nbformat_minor": 5
}
