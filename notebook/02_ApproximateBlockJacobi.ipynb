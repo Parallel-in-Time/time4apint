{
 "cells": [
  {
   "cell_type": "code",
   "execution_count": 1,
   "id": "357c9ffb",
   "metadata": {},
   "outputs": [],
   "source": [
    "%matplotlib notebook\n",
    "from blockops import BlockOperator, BlockIteration, I"
   ]
  },
  {
   "cell_type": "code",
   "execution_count": 2,
   "id": "b0322c7a",
   "metadata": {},
   "outputs": [],
   "source": [
    "nBlocks = 3\n",
    "\n",
    "phi = BlockOperator(r'\\phi')  # integration operator\n",
    "phiD = BlockOperator(r'\\phi_{\\Delta}')  # approximate integration operator\n",
    "chi = BlockOperator(r'\\chi')  # transmission operator\n",
    "\n",
    "blockOps = dict(I=I, phi=phi, phiD=phiD, chi=chi)"
   ]
  },
  {
   "cell_type": "code",
   "execution_count": 3,
   "id": "2fc0209e",
   "metadata": {},
   "outputs": [
    {
     "ename": "Exception",
     "evalue": "K must be a list of length N or an integer.",
     "output_type": "error",
     "traceback": [
      "\u001b[0;31m---------------------------------------------------------------------------\u001b[0m",
      "\u001b[0;31mException\u001b[0m                                 Traceback (most recent call last)",
      "Cell \u001b[0;32mIn[3], line 5\u001b[0m\n\u001b[1;32m      1\u001b[0m block_jacobi \u001b[38;5;241m=\u001b[39m BlockIteration(\n\u001b[1;32m      2\u001b[0m     \u001b[38;5;124m\"\u001b[39m\u001b[38;5;124mphiD**(-1)*chi*u_\u001b[39m\u001b[38;5;132;01m{n}\u001b[39;00m\u001b[38;5;124m^k + (I-phiD**(-1)*phi)* u_\u001b[39m\u001b[38;5;124m{\u001b[39m\u001b[38;5;124mn+1}^\u001b[39m\u001b[38;5;132;01m{k}\u001b[39;00m\u001b[38;5;124m\"\u001b[39m,\n\u001b[1;32m      3\u001b[0m     propagator\u001b[38;5;241m=\u001b[39mphi\u001b[38;5;241m*\u001b[39m\u001b[38;5;241m*\u001b[39m(\u001b[38;5;241m-\u001b[39m\u001b[38;5;241m1\u001b[39m)\u001b[38;5;241m*\u001b[39mchi, predictor\u001b[38;5;241m=\u001b[39mI,\n\u001b[1;32m      4\u001b[0m     \u001b[38;5;241m*\u001b[39m\u001b[38;5;241m*\u001b[39mblockOps)\n\u001b[0;32m----> 5\u001b[0m \u001b[43mblock_jacobi\u001b[49m\u001b[38;5;241;43m.\u001b[39;49m\u001b[43mplotGraph\u001b[49m\u001b[43m(\u001b[49m\u001b[43mN\u001b[49m\u001b[38;5;241;43m=\u001b[39;49m\u001b[43mnBlocks\u001b[49m\u001b[43m,\u001b[49m\u001b[43m \u001b[49m\u001b[43mK\u001b[49m\u001b[38;5;241;43m=\u001b[39;49m\u001b[43m[\u001b[49m\u001b[38;5;241;43m1\u001b[39;49m\u001b[43m,\u001b[49m\u001b[43m \u001b[49m\u001b[38;5;241;43m2\u001b[39;49m\u001b[43m,\u001b[49m\u001b[43m \u001b[49m\u001b[38;5;241;43m3\u001b[39;49m\u001b[43m,\u001b[49m\u001b[43m \u001b[49m\u001b[38;5;241;43m4\u001b[39;49m\u001b[43m]\u001b[49m\u001b[43m)\u001b[49m\n",
      "File \u001b[0;32m~/sciebo/work/time4apint/notebook/blockops/iteration.py:206\u001b[0m, in \u001b[0;36mBlockIteration.plotGraph\u001b[0;34m(self, N, K)\u001b[0m\n\u001b[1;32m    205\u001b[0m \u001b[38;5;28;01mdef\u001b[39;00m \u001b[38;5;21mplotGraph\u001b[39m(\u001b[38;5;28mself\u001b[39m, N, K):\n\u001b[0;32m--> 206\u001b[0m     K \u001b[38;5;241m=\u001b[39m \u001b[38;5;28;43mself\u001b[39;49m\u001b[38;5;241;43m.\u001b[39;49m\u001b[43mcheckK\u001b[49m\u001b[43m(\u001b[49m\u001b[43mN\u001b[49m\u001b[38;5;241;43m=\u001b[39;49m\u001b[43mN\u001b[49m\u001b[43m,\u001b[49m\u001b[43m \u001b[49m\u001b[43mK\u001b[49m\u001b[38;5;241;43m=\u001b[39;49m\u001b[43mK\u001b[49m\u001b[43m)\u001b[49m\n\u001b[1;32m    207\u001b[0m     run \u001b[38;5;241m=\u001b[39m PintRun(blockIteration\u001b[38;5;241m=\u001b[39m\u001b[38;5;28mself\u001b[39m, nBlocks\u001b[38;5;241m=\u001b[39mN, kMax\u001b[38;5;241m=\u001b[39mK)\n\u001b[1;32m    208\u001b[0m     run\u001b[38;5;241m.\u001b[39mplotGraph(\u001b[38;5;28;01mNone\u001b[39;00m \u001b[38;5;28;01mif\u001b[39;00m \u001b[38;5;28mself\u001b[39m\u001b[38;5;241m.\u001b[39mname \u001b[38;5;129;01mis\u001b[39;00m \u001b[38;5;28;01mNone\u001b[39;00m \u001b[38;5;28;01melse\u001b[39;00m \u001b[38;5;28mself\u001b[39m\u001b[38;5;241m.\u001b[39mname \u001b[38;5;241m+\u001b[39m \u001b[38;5;124m'\u001b[39m\u001b[38;5;124m (graph)\u001b[39m\u001b[38;5;124m'\u001b[39m)\n",
      "File \u001b[0;32m~/sciebo/work/time4apint/notebook/blockops/iteration.py:222\u001b[0m, in \u001b[0;36mBlockIteration.checkK\u001b[0;34m(self, N, K)\u001b[0m\n\u001b[1;32m    220\u001b[0m     \u001b[38;5;28;01mreturn\u001b[39;00m [\u001b[38;5;241m0\u001b[39m] \u001b[38;5;241m+\u001b[39m K\n\u001b[1;32m    221\u001b[0m \u001b[38;5;28;01melse\u001b[39;00m:\n\u001b[0;32m--> 222\u001b[0m     \u001b[38;5;28;01mraise\u001b[39;00m \u001b[38;5;167;01mException\u001b[39;00m(\u001b[38;5;124m'\u001b[39m\u001b[38;5;124mK must be a list of length N or an integer.\u001b[39m\u001b[38;5;124m'\u001b[39m)\n",
      "\u001b[0;31mException\u001b[0m: K must be a list of length N or an integer."
     ]
    }
   ],
   "source": [
    "block_jacobi = BlockIteration(\n",
    "    \"phiD**(-1)*chi*u_{n}^k + (I-phiD**(-1)*phi)* u_{n+1}^{k}\",\n",
    "    propagator=phi**(-1)*chi, predictor=I,\n",
    "    **blockOps)\n",
    "block_jacobi.plotGraph(N=nBlocks, K=[1, 2, 3, 4])"
   ]
  },
  {
   "cell_type": "code",
   "execution_count": null,
   "id": "8c653901",
   "metadata": {},
   "outputs": [],
   "source": [
    "block_jacobi = BlockIteration(\n",
    "    \"phiD**(-1)*chi*u_{n}^k + (I-phiD**(-1)*phi)*u_{n+1}^{k}\",\n",
    "    propagator=phi**(-1)*chi, predictor=phiD**(-1)*chi,\n",
    "    **blockOps)\n",
    "block_jacobi.plotGraph(N=nBlocks, K=[1, 2, 3, 4])"
   ]
  },
  {
   "cell_type": "code",
   "execution_count": null,
   "id": "fe5a73f2",
   "metadata": {},
   "outputs": [],
   "source": [
    "block_jacobi = BlockIteration(\n",
    "    \"phiD**(-1)*chi*u_{n}^k + (I-phiD**(-1)*phi)*u_{n+1}^{k}\",\n",
    "    propagator=phi**(-1)*chi, predictor=None,\n",
    "    **blockOps)\n",
    "block_jacobi.plotGraph(N=nBlocks, K=[1, 2, 3, 4])"
   ]
  }
 ],
 "metadata": {
  "kernelspec": {
   "display_name": "Python 3 (ipykernel)",
   "language": "python",
   "name": "python3"
  },
  "language_info": {
   "codemirror_mode": {
    "name": "ipython",
    "version": 3
   },
   "file_extension": ".py",
   "mimetype": "text/x-python",
   "name": "python",
   "nbconvert_exporter": "python",
   "pygments_lexer": "ipython3",
   "version": "3.8.10"
  }
 },
 "nbformat": 4,
 "nbformat_minor": 5
}
